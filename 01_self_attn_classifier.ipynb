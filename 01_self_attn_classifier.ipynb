{
 "cells": [
  {
   "cell_type": "code",
   "execution_count": 5,
   "id": "10ea98a1-c7aa-465c-81a8-a59f1c6dca63",
   "metadata": {},
   "outputs": [],
   "source": [
    "import torch\n",
    "import torch.nn \n",
    "import numpy as np\n",
    "import matplotlib.pyplot as plt\n",
    "import sys\n",
    "sys.path.append('./src')\n",
    "\n",
    "from model.attn_classifer import SelfAttention"
   ]
  },
  {
   "cell_type": "markdown",
   "id": "13388168",
   "metadata": {},
   "source": [
    "## Test Self Attention"
   ]
  },
  {
   "cell_type": "code",
   "execution_count": null,
   "id": "858793ac",
   "metadata": {},
   "outputs": [],
   "source": [
    "# Test on a sample data\n",
    "x = torch.randn(size=(10,1,128))\n",
    "model = SelfAttention(emb_dims=128)\n"
   ]
  },
  {
   "cell_type": "markdown",
   "id": "7acfc3eb",
   "metadata": {},
   "source": []
  }
 ],
 "metadata": {
  "kernelspec": {
   "display_name": "Python 3",
   "language": "python",
   "name": "python3"
  },
  "language_info": {
   "codemirror_mode": {
    "name": "ipython",
    "version": 3
   },
   "file_extension": ".py",
   "mimetype": "text/x-python",
   "name": "python",
   "nbconvert_exporter": "python",
   "pygments_lexer": "ipython3",
   "version": "3.10.12"
  }
 },
 "nbformat": 4,
 "nbformat_minor": 5
}
