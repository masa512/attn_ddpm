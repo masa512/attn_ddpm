{
 "cells": [
  {
   "cell_type": "code",
   "execution_count": 1,
   "id": "10ea98a1-c7aa-465c-81a8-a59f1c6dca63",
   "metadata": {},
   "outputs": [],
   "source": [
    "import torch\n",
    "import torch.nn \n",
    "import numpy as np\n",
    "import matplotlib.pyplot as plt"
   ]
  },
  {
   "cell_type": "code",
   "execution_count": null,
   "id": "4b94db2d-51c9-4aff-9c39-524dabd4be9d",
   "metadata": {},
   "outputs": [],
   "source": []
  }
 ],
 "metadata": {
  "kernelspec": {
   "display_name": "Python 3 (ipykernel)",
   "language": "python",
   "name": "python3"
  },
  "language_info": {
   "codemirror_mode": {
    "name": "ipython",
    "version": 3
   },
   "file_extension": ".py",
   "mimetype": "text/x-python",
   "name": "python",
   "nbconvert_exporter": "python",
   "pygments_lexer": "ipython3",
   "version": "3.10.12"
  }
 },
 "nbformat": 4,
 "nbformat_minor": 5
}
